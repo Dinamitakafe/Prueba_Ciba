{
 "cells": [
  {
   "cell_type": "code",
   "execution_count": 1,
   "id": "fbf9c100",
   "metadata": {},
   "outputs": [],
   "source": [
    "from scrapy.item import Field\n",
    "from scrapy.item import Item\n",
    "from scrapy.spiders import Spider\n",
    "from scrapy.selector import Selector\n",
    "from scrapy.loader import ItemLoader #cargar objeto\n",
    "from scrapy.crawler import CrawlerProcess # para correr el codigo sin la terminal"
   ]
  },
  {
   "cell_type": "code",
   "execution_count": 2,
   "id": "00128c38",
   "metadata": {},
   "outputs": [],
   "source": [
    "# Genramos una clase y hacemos que herede propiedades de la clase \"Item\" del paquete scrapy.\n",
    "#En la clase colocamos todos los elementos que deseamos extraer\n",
    "class Pregunta(Item):\n",
    "    id_ = Field()\n",
    "    titulo_prgt = Field() #elemento 1\n",
    "    descripcion_prgt = Field() #elemento 2\n",
    "    \n",
    "# Esta 2da clase se encarga de hacer los requerimientos y el parseo\n",
    "#Este class hereda propiedades de \"Spider\", esto solo es para paginas estaticas.\n",
    "#El user-agent lo colocamos en \"custom_settings\", que es una propiedad ya creada dentro del spider\n",
    "# item.add_xpath('a','b'): lo de b sera almacenado en a. \n",
    "class StackoverflowSpider(Spider):\n",
    "    name = \"MiPrimerSpider\"\n",
    "    custom_settings = {\n",
    "        'USER_AGENT': 'Mozilla/5.0 (Windows NT 10.0; Win64; x64) AppleWebKit/537.36 (KHTML, like Gecko) Chrome/108.0.0.0 Safari/537.36'\n",
    "    }\n",
    "    \n",
    "    url_semilla = [\"https://stackoverflow.com/questions\"]\n",
    "    #Solo con escribir la url en la lista, scrapy por defecto hace el requerimiento.\n",
    "    \n",
    "    def parse(self, response): #el arbol html esta en \"response\" y lo parseo con la funcion \"parse\"\n",
    "        sel = Selector(response) #sirve para hacer consultas a la pagina\n",
    "        preguntas = sel.xpath('//div[@id=\"questions\"]//div[@class=\"s-post-summary    js-post-summary\"]')\n",
    "        for pregunta in preguntas:\n",
    "            item = ItemLoarder(Pregunta(),pregunta)\n",
    "            item.add_xpath('titulo_prgt','.//h3/a/text()')\n",
    "            item.add_xpath('descripcion_prgt','.//div[@class=\"s-post-summary--content-excerpt\"]/text()')\n",
    "            item.add_value('id_',1) #agregando valores fijos\n",
    "            \n",
    "            yield item.load_item() #es una especie de return\n",
    "        \n",
    "    "
   ]
  },
  {
   "cell_type": "code",
   "execution_count": 3,
   "id": "d9ef1995",
   "metadata": {},
   "outputs": [
    {
     "name": "stderr",
     "output_type": "stream",
     "text": [
      "2023-02-08 23:31:19 [scrapy.utils.log] INFO: Scrapy 2.6.1 started (bot: scrapybot)\n",
      "2023-02-08 23:31:19 [scrapy.utils.log] INFO: Versions: lxml 4.8.0.0, libxml2 2.9.12, cssselect 1.1.0, parsel 1.6.0, w3lib 1.21.0, Twisted 20.3.0, Python 3.9.12 (main, Apr  4 2022, 05:22:27) [MSC v.1916 64 bit (AMD64)], pyOpenSSL 21.0.0 (OpenSSL 1.1.1n  15 Mar 2022), cryptography 3.4.8, Platform Windows-10-10.0.19044-SP0\n",
      "2023-02-08 23:31:19 [scrapy.crawler] INFO: Overridden settings:\n",
      "{'USER_AGENT': 'Mozilla/5.0 (Windows NT 10.0; Win64; x64) AppleWebKit/537.36 '\n",
      "               '(KHTML, like Gecko) Chrome/108.0.0.0 Safari/537.36'}\n",
      "2023-02-08 23:31:19 [scrapy.utils.log] DEBUG: Using reactor: twisted.internet.selectreactor.SelectReactor\n",
      "2023-02-08 23:31:19 [scrapy.extensions.telnet] INFO: Telnet Password: daf4dd9753655220\n",
      "2023-02-08 23:31:19 [py.warnings] WARNING: C:\\ProgramData\\Anaconda3\\lib\\site-packages\\scrapy\\extensions\\feedexport.py:289: ScrapyDeprecationWarning: The `FEED_URI` and `FEED_FORMAT` settings have been deprecated in favor of the `FEEDS` setting. Please see the `FEEDS` setting docs for more details\n",
      "  exporter = cls(crawler)\n",
      "\n",
      "2023-02-08 23:31:19 [scrapy.middleware] INFO: Enabled extensions:\n",
      "['scrapy.extensions.corestats.CoreStats',\n",
      " 'scrapy.extensions.telnet.TelnetConsole',\n",
      " 'scrapy.extensions.feedexport.FeedExporter',\n",
      " 'scrapy.extensions.logstats.LogStats']\n",
      "2023-02-08 23:31:19 [scrapy.middleware] INFO: Enabled downloader middlewares:\n",
      "['scrapy.downloadermiddlewares.httpauth.HttpAuthMiddleware',\n",
      " 'scrapy.downloadermiddlewares.downloadtimeout.DownloadTimeoutMiddleware',\n",
      " 'scrapy.downloadermiddlewares.defaultheaders.DefaultHeadersMiddleware',\n",
      " 'scrapy.downloadermiddlewares.useragent.UserAgentMiddleware',\n",
      " 'scrapy.downloadermiddlewares.retry.RetryMiddleware',\n",
      " 'scrapy.downloadermiddlewares.redirect.MetaRefreshMiddleware',\n",
      " 'scrapy.downloadermiddlewares.httpcompression.HttpCompressionMiddleware',\n",
      " 'scrapy.downloadermiddlewares.redirect.RedirectMiddleware',\n",
      " 'scrapy.downloadermiddlewares.cookies.CookiesMiddleware',\n",
      " 'scrapy.downloadermiddlewares.httpproxy.HttpProxyMiddleware',\n",
      " 'scrapy.downloadermiddlewares.stats.DownloaderStats']\n",
      "2023-02-08 23:31:19 [scrapy.middleware] INFO: Enabled spider middlewares:\n",
      "['scrapy.spidermiddlewares.httperror.HttpErrorMiddleware',\n",
      " 'scrapy.spidermiddlewares.offsite.OffsiteMiddleware',\n",
      " 'scrapy.spidermiddlewares.referer.RefererMiddleware',\n",
      " 'scrapy.spidermiddlewares.urllength.UrlLengthMiddleware',\n",
      " 'scrapy.spidermiddlewares.depth.DepthMiddleware']\n",
      "2023-02-08 23:31:19 [scrapy.middleware] INFO: Enabled item pipelines:\n",
      "[]\n",
      "2023-02-08 23:31:19 [scrapy.core.engine] INFO: Spider opened\n",
      "2023-02-08 23:31:19 [scrapy.extensions.logstats] INFO: Crawled 0 pages (at 0 pages/min), scraped 0 items (at 0 items/min)\n",
      "2023-02-08 23:31:19 [scrapy.extensions.telnet] INFO: Telnet console listening on 127.0.0.1:6023\n",
      "2023-02-08 23:31:19 [scrapy.core.engine] INFO: Closing spider (finished)\n",
      "2023-02-08 23:31:19 [scrapy.statscollectors] INFO: Dumping Scrapy stats:\n",
      "{'elapsed_time_seconds': 0.009002,\n",
      " 'finish_reason': 'finished',\n",
      " 'finish_time': datetime.datetime(2023, 2, 9, 4, 31, 19, 467975),\n",
      " 'log_count/DEBUG': 1,\n",
      " 'log_count/INFO': 10,\n",
      " 'log_count/WARNING': 1,\n",
      " 'start_time': datetime.datetime(2023, 2, 9, 4, 31, 19, 458973)}\n",
      "2023-02-08 23:31:19 [scrapy.core.engine] INFO: Spider closed (finished)\n"
     ]
    }
   ],
   "source": [
    "process = CrawlerProcess({\n",
    "    'FEED_FORMAT': 'csv',  #formato del archivo en que deseas guardar la info\n",
    "    'FEED_URI': 'resultado.csv' #nombre del archivo\n",
    "})\n",
    "process.crawl(StackoverflowSpider)\n",
    "process.start()"
   ]
  },
  {
   "cell_type": "code",
   "execution_count": null,
   "id": "39bb4f0f",
   "metadata": {},
   "outputs": [],
   "source": []
  },
  {
   "cell_type": "code",
   "execution_count": null,
   "id": "59aa1b07",
   "metadata": {},
   "outputs": [],
   "source": []
  },
  {
   "cell_type": "code",
   "execution_count": null,
   "id": "2b715228",
   "metadata": {},
   "outputs": [],
   "source": []
  }
 ],
 "metadata": {
  "kernelspec": {
   "display_name": "Python 3 (ipykernel)",
   "language": "python",
   "name": "python3"
  },
  "language_info": {
   "codemirror_mode": {
    "name": "ipython",
    "version": 3
   },
   "file_extension": ".py",
   "mimetype": "text/x-python",
   "name": "python",
   "nbconvert_exporter": "python",
   "pygments_lexer": "ipython3",
   "version": "3.9.12"
  }
 },
 "nbformat": 4,
 "nbformat_minor": 5
}
